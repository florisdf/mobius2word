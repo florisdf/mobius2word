{
 "cells": [
  {
   "cell_type": "code",
   "execution_count": 1,
   "id": "7d1873a0",
   "metadata": {},
   "outputs": [],
   "source": [
    "from pathlib import Path\n",
    "from bs4 import BeautifulSoup"
   ]
  },
  {
   "cell_type": "code",
   "execution_count": 2,
   "id": "c9495594",
   "metadata": {},
   "outputs": [],
   "source": [
    "from IPython.core.display import display, HTML\n",
    "import re\n",
    "import numpy as np\n",
    "\n",
    "def get_question_text(question_soup):\n",
    "    return question_soup.find_all('text')[0].contents[0]\n",
    "\n",
    "def replace_base_uri(sessieXML, question_text):\n",
    "    return question_text.replace('__BASE_URI__', f'{sessieXML.parent / \"web_folders\"}/')\n",
    "\n",
    "def remove_answer_fields(question_text):\n",
    "    return re.sub(r'.*\\<\\d+\\>.*', '', question_text)\n",
    "\n",
    "def get_question_html(sessieXML, question_soup):\n",
    "    q_text = get_question_text(question_soup)\n",
    "    q_text = replace_base_uri(sessieXML, q_text)\n",
    "    q_text = remove_answer_fields(q_text)\n",
    "    return q_text\n",
    "\n",
    "def get_session_name(soup):\n",
    "    return str(soup.module.find('name').contents[0]).strip()\n",
    "\n",
    "def get_session_quesions(soup):\n",
    "    return soup.find_all('question')\n",
    "\n",
    "def get_quesion_name(q_soup):\n",
    "    return str(q_soup.find('name').contents[0]).strip()\n",
    "\n",
    "def get_session_html(sessieXML, soup):\n",
    "    session_name = get_session_name(soup)\n",
    "    questions = get_session_quesions(soup)\n",
    "    question_names = [\n",
    "        get_quesion_name(q_soup)\n",
    "        for q_soup in questions\n",
    "    ]\n",
    "    \n",
    "    idxs = np.argsort(question_names)\n",
    "\n",
    "    session_html = f'<h1>{session_name}</h1>\\n'\n",
    "\n",
    "    for i, idx in enumerate(idxs):\n",
    "        q_soup = questions[idx]\n",
    "        q_name = question_names[idx]\n",
    "        session_html += f'<h2>Oefening {i + 1} ({q_name})</h2>\\n'\n",
    "        session_html += get_question_html(sessieXML, q_soup)\n",
    "        \n",
    "    return session_html"
   ]
  },
  {
   "cell_type": "code",
   "execution_count": 3,
   "id": "c7971a37",
   "metadata": {
    "scrolled": false
   },
   "outputs": [],
   "source": [
    "import os\n",
    "\n",
    "def create_sessions_docx(path):\n",
    "    all_sessions_html = ''\n",
    "\n",
    "    for sessieXML in sorted(list(path.glob('*/manifest.xml'))):\n",
    "        soup = BeautifulSoup(sessieXML.read_text(), \"html.parser\")\n",
    "        all_sessions_html += get_session_html(sessieXML, soup)\n",
    "\n",
    "    out_path = Path(f'{path.stem}.html')\n",
    "    out_path.write_text(all_sessions_html)\n",
    "    os.system(f'pandoc {out_path} -f html -t docx -s -o {out_path.parent / out_path.stem}.docx')\n",
    "\n",
    "    #display(HTML(session_html))"
   ]
  },
  {
   "cell_type": "code",
   "execution_count": 4,
   "id": "745b801d",
   "metadata": {},
   "outputs": [],
   "source": [
    "create_sessions_docx(Path('./oefensessies/'))"
   ]
  },
  {
   "cell_type": "code",
   "execution_count": 5,
   "id": "d824a842",
   "metadata": {},
   "outputs": [],
   "source": [
    "create_sessions_docx(Path('./extra_oefensessies/'))"
   ]
  },
  {
   "cell_type": "code",
   "execution_count": null,
   "id": "50bec753",
   "metadata": {},
   "outputs": [],
   "source": []
  }
 ],
 "metadata": {
  "kernelspec": {
   "display_name": "Python 3",
   "language": "python",
   "name": "python3"
  },
  "language_info": {
   "codemirror_mode": {
    "name": "ipython",
    "version": 3
   },
   "file_extension": ".py",
   "mimetype": "text/x-python",
   "name": "python",
   "nbconvert_exporter": "python",
   "pygments_lexer": "ipython3",
   "version": "3.9.4"
  }
 },
 "nbformat": 4,
 "nbformat_minor": 5
}
